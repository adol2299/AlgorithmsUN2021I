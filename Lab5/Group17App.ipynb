{
  "nbformat": 4,
  "nbformat_minor": 0,
  "metadata": {
    "colab": {
      "name": "Group17App.ipynb",
      "provenance": []
    },
    "kernelspec": {
      "name": "python3",
      "display_name": "Python 3"
    },
    "language_info": {
      "name": "python"
    }
  },
  "cells": [
    {
      "cell_type": "code",
      "metadata": {
        "id": "AZxw7m6pueq8"
      },
      "source": [
        ""
      ],
      "execution_count": null,
      "outputs": []
    },
    {
      "cell_type": "markdown",
      "metadata": {
        "id": "zga8OZtDvYZ4"
      },
      "source": [
        "#Aplicación en Flask"
      ]
    },
    {
      "cell_type": "markdown",
      "metadata": {
        "id": "SEk_9K4rvbHQ"
      },
      "source": [
        "La aplicación creada por el grupo 17 está en: http://jmunozq.pythonanywhere.com"
      ]
    }
  ]
}