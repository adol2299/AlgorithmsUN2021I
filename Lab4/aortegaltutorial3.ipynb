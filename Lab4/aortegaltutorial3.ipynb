{
  "nbformat": 4,
  "nbformat_minor": 0,
  "metadata": {
    "kernelspec": {
      "display_name": "Python 3",
      "language": "python",
      "name": "python3"
    },
    "language_info": {
      "codemirror_mode": {
        "name": "ipython",
        "version": 3
      },
      "file_extension": ".py",
      "mimetype": "text/x-python",
      "name": "python",
      "nbconvert_exporter": "python",
      "pygments_lexer": "ipython3",
      "version": "3.6.4"
    },
    "colab": {
      "name": "aortegaltutorial3.ipynb",
      "provenance": []
    }
  },
  "cells": [
    {
      "cell_type": "code",
      "metadata": {
        "id": "H-eXkgDoz28h",
        "outputId": "53ca8e72-c0d8-4912-b128-25309c677659"
      },
      "source": [
        "def product(x,y):\n",
        "    return x*y\n",
        "print(product(2,3))\n",
        "print(product(5,10))"
      ],
      "execution_count": null,
      "outputs": [
        {
          "output_type": "stream",
          "text": [
            "6\n",
            "50\n"
          ],
          "name": "stdout"
        }
      ]
    },
    {
      "cell_type": "markdown",
      "metadata": {
        "id": "dfRkNFS2z917"
      },
      "source": [
        "##Mi Ejemplo"
      ]
    },
    {
      "cell_type": "code",
      "metadata": {
        "colab": {
          "base_uri": "https://localhost:8080/"
        },
        "id": "XnDZASVR0AjB",
        "outputId": "ab2c11a9-baaa-441c-f71e-f974e129ccb4"
      },
      "source": [
        "def sum(x,y):\n",
        "    return x+y\n",
        "print(sum(2,3))\n",
        "print(sum(5,10))"
      ],
      "execution_count": 1,
      "outputs": [
        {
          "output_type": "stream",
          "text": [
            "5\n",
            "15\n"
          ],
          "name": "stdout"
        }
      ]
    },
    {
      "cell_type": "code",
      "metadata": {
        "id": "txlxJjTxz28z",
        "outputId": "2efb1dee-dada-45d8-fb41-ea3f1eefcfa6"
      },
      "source": [
        "def say_hi():\n",
        "    print('Welcome to QuantConnect')\n",
        "say_hi()"
      ],
      "execution_count": null,
      "outputs": [
        {
          "output_type": "stream",
          "text": [
            "Welcome to QuantConnect\n"
          ],
          "name": "stdout"
        }
      ]
    },
    {
      "cell_type": "markdown",
      "metadata": {
        "id": "alTT-OAL0ItY"
      },
      "source": [
        "##Mi Ejemplo"
      ]
    },
    {
      "cell_type": "code",
      "metadata": {
        "colab": {
          "base_uri": "https://localhost:8080/"
        },
        "id": "uF__hOXJ0KsY",
        "outputId": "56cad2c6-a62a-47eb-a6a6-65b7fb15368a"
      },
      "source": [
        "def di_hola():\n",
        "    print('Hola Mundo')\n",
        "di_hola()"
      ],
      "execution_count": 2,
      "outputs": [
        {
          "output_type": "stream",
          "text": [
            "Hola Mundo\n"
          ],
          "name": "stdout"
        }
      ]
    },
    {
      "cell_type": "code",
      "metadata": {
        "id": "kzkDFni3z280",
        "outputId": "dcaf777f-07d9-4737-b23c-8e6c58106220"
      },
      "source": [
        "print(range(10))\n",
        "print(range(1,11))\n",
        "print(range(1,11,2))"
      ],
      "execution_count": null,
      "outputs": [
        {
          "output_type": "stream",
          "text": [
            "range(0, 10)\n",
            "range(1, 11)\n",
            "range(1, 11, 2)\n"
          ],
          "name": "stdout"
        }
      ]
    },
    {
      "cell_type": "markdown",
      "metadata": {
        "id": "H0Tx-KJd0SwY"
      },
      "source": [
        "##Mi Ejemplo"
      ]
    },
    {
      "cell_type": "code",
      "metadata": {
        "colab": {
          "base_uri": "https://localhost:8080/"
        },
        "id": "IHbtztkd0Ww5",
        "outputId": "ac23859c-5fd2-43cd-dd01-ff52f45a8b48"
      },
      "source": [
        "print(range(2))\n",
        "print(range(2,5))\n",
        "print(range(2,5,6))"
      ],
      "execution_count": 3,
      "outputs": [
        {
          "output_type": "stream",
          "text": [
            "range(0, 2)\n",
            "range(2, 5)\n",
            "range(2, 5, 6)\n"
          ],
          "name": "stdout"
        }
      ]
    },
    {
      "cell_type": "code",
      "metadata": {
        "id": "C-wBYIwcz280",
        "outputId": "ff8f01a5-48be-4236-cced-5469b96a1063"
      },
      "source": [
        "tickers = ['AAPL','GOOG','IBM','FB','F','V', 'G', 'GE']\n",
        "print('The length of tickers is {}'.format(len(tickers)))\n",
        "for i in range(len(tickers)):\n",
        "    print(tickers[i])"
      ],
      "execution_count": null,
      "outputs": [
        {
          "output_type": "stream",
          "text": [
            "The length of tickers is 8\n",
            "AAPL\n",
            "GOOG\n",
            "IBM\n",
            "FB\n",
            "F\n",
            "V\n",
            "G\n",
            "GE\n"
          ],
          "name": "stdout"
        }
      ]
    },
    {
      "cell_type": "markdown",
      "metadata": {
        "id": "0IjGopuU0fJ5"
      },
      "source": [
        "##Mi Ejemplo"
      ]
    },
    {
      "cell_type": "code",
      "metadata": {
        "colab": {
          "base_uri": "https://localhost:8080/"
        },
        "id": "1aTtYd0e0iM4",
        "outputId": "ff2ed727-5894-4da7-9210-fe3708e302f6"
      },
      "source": [
        "Animales = ['Perro','Gato','Lagartija','Paloma','Hurón']\n",
        "print('El número de animales es {}'.format(len(Animales)))\n",
        "for i in range(len(Animales)):\n",
        "    print(Animales[i])"
      ],
      "execution_count": 5,
      "outputs": [
        {
          "output_type": "stream",
          "text": [
            "El número de animales es 5\n",
            "Perro\n",
            "Gato\n",
            "Lagartija\n",
            "Paloma\n",
            "Hurón\n"
          ],
          "name": "stdout"
        }
      ]
    },
    {
      "cell_type": "code",
      "metadata": {
        "id": "6-Y2tIM_z281",
        "outputId": "aaf26852-2a06-4169-b01d-68c77033356f"
      },
      "source": [
        "tickers = ['AAPL','GOOG','IBM','FB','F','V', 'G', 'GE']\n",
        "print(list(map(len,tickers)))"
      ],
      "execution_count": null,
      "outputs": [
        {
          "output_type": "stream",
          "text": [
            "[4, 4, 3, 2, 1, 1, 1, 2]\n"
          ],
          "name": "stdout"
        }
      ]
    },
    {
      "cell_type": "markdown",
      "metadata": {
        "id": "e_rPN-3y1Gqq"
      },
      "source": [
        "##Mi Ejemplo"
      ]
    },
    {
      "cell_type": "code",
      "metadata": {
        "colab": {
          "base_uri": "https://localhost:8080/"
        },
        "id": "tGTCDuhZ1P3S",
        "outputId": "b964520c-8255-4f46-fa78-99f7ad2fff7b"
      },
      "source": [
        "Animales = ['Perro','Gato','Lagartija','Paloma','Hurón']\n",
        "print(list(map(len,Animales)))"
      ],
      "execution_count": 7,
      "outputs": [
        {
          "output_type": "stream",
          "text": [
            "[5, 4, 9, 6, 5]\n"
          ],
          "name": "stdout"
        }
      ]
    },
    {
      "cell_type": "code",
      "metadata": {
        "id": "LJ4UsrbBz281",
        "outputId": "d1f3f3ed-217c-472f-980e-6a5e8debda54"
      },
      "source": [
        "list(map(lambda x: x**2, range(10)))"
      ],
      "execution_count": null,
      "outputs": [
        {
          "output_type": "execute_result",
          "data": {
            "text/plain": [
              "[0, 1, 4, 9, 16, 25, 36, 49, 64, 81]"
            ]
          },
          "metadata": {
            "tags": []
          },
          "execution_count": 12
        }
      ]
    },
    {
      "cell_type": "markdown",
      "metadata": {
        "id": "VZ5hAXIL1bea"
      },
      "source": [
        "##Mi Ejemplo"
      ]
    },
    {
      "cell_type": "code",
      "metadata": {
        "colab": {
          "base_uri": "https://localhost:8080/"
        },
        "id": "R13qxx7t1d0Z",
        "outputId": "070e3810-c31c-488b-c776-e72c53d62a14"
      },
      "source": [
        "list(map(lambda x: x**2, range(20)))"
      ],
      "execution_count": 8,
      "outputs": [
        {
          "output_type": "execute_result",
          "data": {
            "text/plain": [
              "[0,\n",
              " 1,\n",
              " 4,\n",
              " 9,\n",
              " 16,\n",
              " 25,\n",
              " 36,\n",
              " 49,\n",
              " 64,\n",
              " 81,\n",
              " 100,\n",
              " 121,\n",
              " 144,\n",
              " 169,\n",
              " 196,\n",
              " 225,\n",
              " 256,\n",
              " 289,\n",
              " 324,\n",
              " 361]"
            ]
          },
          "metadata": {
            "tags": []
          },
          "execution_count": 8
        }
      ]
    },
    {
      "cell_type": "code",
      "metadata": {
        "id": "kIs0MAmmz282",
        "outputId": "ece227d5-b846-439d-a52b-52f6a062a0a7"
      },
      "source": [
        "list(map(lambda x, y: x+y, [1,2,3,4,5],[5,4,3,2,1]))"
      ],
      "execution_count": null,
      "outputs": [
        {
          "output_type": "execute_result",
          "data": {
            "text/plain": [
              "[6, 6, 6, 6, 6]"
            ]
          },
          "metadata": {
            "tags": []
          },
          "execution_count": 13
        }
      ]
    },
    {
      "cell_type": "markdown",
      "metadata": {
        "id": "ZnWusWWu1yVj"
      },
      "source": [
        "##Mi Ejemplo"
      ]
    },
    {
      "cell_type": "code",
      "metadata": {
        "colab": {
          "base_uri": "https://localhost:8080/"
        },
        "id": "4LKAPXhO10Km",
        "outputId": "21a3ef45-e50a-4150-fc94-8538f283e853"
      },
      "source": [
        "list(map(lambda x, y: x*y, [2,4,6,8,10],[5,4,3,2,1]))"
      ],
      "execution_count": 10,
      "outputs": [
        {
          "output_type": "execute_result",
          "data": {
            "text/plain": [
              "[10, 16, 18, 16, 10]"
            ]
          },
          "metadata": {
            "tags": []
          },
          "execution_count": 10
        }
      ]
    },
    {
      "cell_type": "code",
      "metadata": {
        "id": "C8Ez-T7Wz283",
        "outputId": "5d05e6a6-2ea9-47dd-ed6f-156b01e59f59"
      },
      "source": [
        "sorted([5,2,3,4,1])"
      ],
      "execution_count": null,
      "outputs": [
        {
          "output_type": "execute_result",
          "data": {
            "text/plain": [
              "[1, 2, 3, 4, 5]"
            ]
          },
          "metadata": {
            "tags": []
          },
          "execution_count": 14
        }
      ]
    },
    {
      "cell_type": "markdown",
      "metadata": {
        "id": "aMp3aiXY16wx"
      },
      "source": [
        "##Mi Ejemplo"
      ]
    },
    {
      "cell_type": "code",
      "metadata": {
        "colab": {
          "base_uri": "https://localhost:8080/"
        },
        "id": "1sHR11qq18c6",
        "outputId": "50c842a1-f63a-4d9a-dcc8-c8015f39d58c"
      },
      "source": [
        "sorted([15,2,63,2,8])"
      ],
      "execution_count": 11,
      "outputs": [
        {
          "output_type": "execute_result",
          "data": {
            "text/plain": [
              "[2, 2, 8, 15, 63]"
            ]
          },
          "metadata": {
            "tags": []
          },
          "execution_count": 11
        }
      ]
    },
    {
      "cell_type": "code",
      "metadata": {
        "id": "bUihB90Az283",
        "outputId": "125d36c4-b3ae-456d-ab67-e1202aa3eec3"
      },
      "source": [
        "price_list = [('AAPL',144.09),('GOOG',911.71),('MSFT',69),('FB',150),('WMT',75.32)]\n",
        "sorted(price_list, key = lambda x: x[1])"
      ],
      "execution_count": null,
      "outputs": [
        {
          "output_type": "execute_result",
          "data": {
            "text/plain": [
              "[('MSFT', 69), ('WMT', 75.32), ('AAPL', 144.09), ('FB', 150), ('GOOG', 911.71)]"
            ]
          },
          "metadata": {
            "tags": []
          },
          "execution_count": 15
        }
      ]
    },
    {
      "cell_type": "markdown",
      "metadata": {
        "id": "E0kfudQC2A8K"
      },
      "source": [
        "##Mi Ejemplo"
      ]
    },
    {
      "cell_type": "code",
      "metadata": {
        "colab": {
          "base_uri": "https://localhost:8080/"
        },
        "id": "lJvTdKJY2CgB",
        "outputId": "3411e793-aeab-45ef-d089-c98922f8a3c0"
      },
      "source": [
        "Precios = [('Lapiz',12.3),('Esfero',95.3),('Borrador',125.66),('Papel',6523.4)]\n",
        "sorted(Precios, key = lambda x: x[1])"
      ],
      "execution_count": 12,
      "outputs": [
        {
          "output_type": "execute_result",
          "data": {
            "text/plain": [
              "[('Lapiz', 12.3), ('Esfero', 95.3), ('Borrador', 125.66), ('Papel', 6523.4)]"
            ]
          },
          "metadata": {
            "tags": []
          },
          "execution_count": 12
        }
      ]
    },
    {
      "cell_type": "code",
      "metadata": {
        "id": "2zZPAu_Xz284",
        "outputId": "1c35a153-1a2b-4128-f30c-490e7c394de9"
      },
      "source": [
        "price_list = [('AAPL',144.09),('GOOG',911.71),('MSFT',69),('FB',150),('WMT',75.32)]\n",
        "sorted(price_list, key = lambda x: x[1],reverse = True)"
      ],
      "execution_count": null,
      "outputs": [
        {
          "output_type": "execute_result",
          "data": {
            "text/plain": [
              "[('GOOG', 911.71), ('FB', 150), ('AAPL', 144.09), ('WMT', 75.32), ('MSFT', 69)]"
            ]
          },
          "metadata": {
            "tags": []
          },
          "execution_count": 16
        }
      ]
    },
    {
      "cell_type": "markdown",
      "metadata": {
        "id": "1SMIibxI2YMR"
      },
      "source": [
        "##Mi Ejemplo"
      ]
    },
    {
      "cell_type": "code",
      "metadata": {
        "colab": {
          "base_uri": "https://localhost:8080/"
        },
        "id": "OhDUBfi42am5",
        "outputId": "49d1d22a-1e55-49c7-8fbe-6c795586693d"
      },
      "source": [
        "Precios = [('Lapiz',12.3),('Esfero',95.3),('Borrador',125.66),('Papel',6523.4)]\n",
        "sorted(Precios, key = lambda x: x[1],reverse = True)"
      ],
      "execution_count": 14,
      "outputs": [
        {
          "output_type": "execute_result",
          "data": {
            "text/plain": [
              "[('Papel', 6523.4), ('Borrador', 125.66), ('Esfero', 95.3), ('Lapiz', 12.3)]"
            ]
          },
          "metadata": {
            "tags": []
          },
          "execution_count": 14
        }
      ]
    },
    {
      "cell_type": "code",
      "metadata": {
        "id": "Lq1tanCsz284",
        "outputId": "8b24e5b7-22e5-455e-bdfd-c57408b5a6db"
      },
      "source": [
        "price_list = [('AAPL',144.09),('GOOG',911.71),('MSFT',69),('FB',150),('WMT',75.32)]\n",
        "price_list.sort(key = lambda x: x[1])\n",
        "print(price_list)"
      ],
      "execution_count": null,
      "outputs": [
        {
          "output_type": "stream",
          "text": [
            "[('MSFT', 69), ('WMT', 75.32), ('AAPL', 144.09), ('FB', 150), ('GOOG', 911.71)]\n"
          ],
          "name": "stdout"
        }
      ]
    },
    {
      "cell_type": "markdown",
      "metadata": {
        "id": "Znnmtg5-2xUx"
      },
      "source": [
        "##Mi Ejemplo"
      ]
    },
    {
      "cell_type": "code",
      "metadata": {
        "colab": {
          "base_uri": "https://localhost:8080/"
        },
        "id": "kAdrbXBl3Cih",
        "outputId": "6a1afd53-ec46-443e-86a1-96ead011f4ef"
      },
      "source": [
        "Precios = [('Lapiz',12.3),('Esfero',95.3),('Borrador',125.66),('Papel',6523.4)]\n",
        "Precios.sort(key = lambda x: x[1])\n",
        "print(Precios)"
      ],
      "execution_count": 15,
      "outputs": [
        {
          "output_type": "stream",
          "text": [
            "[('Lapiz', 12.3), ('Esfero', 95.3), ('Borrador', 125.66), ('Papel', 6523.4)]\n"
          ],
          "name": "stdout"
        }
      ]
    },
    {
      "cell_type": "code",
      "metadata": {
        "id": "eisjPNZlz285"
      },
      "source": [
        "class stock:\n",
        "    def __init__(self, ticker, open, close, volume):\n",
        "        self.ticker = ticker\n",
        "        self.open = open\n",
        "        self.close = close\n",
        "        self.volume = volume\n",
        "        self.rate_return = float(close)/open - 1\n",
        " \n",
        "    def update(self, open, close):\n",
        "        self.open = open\n",
        "        self.close = close\n",
        "        self.rate_return = float(self.close)/self.open - 1\n",
        " \n",
        "    def print_return(self):\n",
        "        print(self.rate_return)"
      ],
      "execution_count": null,
      "outputs": []
    },
    {
      "cell_type": "markdown",
      "metadata": {
        "id": "eeoo_7R03QCK"
      },
      "source": [
        "##Mi Ejemplo"
      ]
    },
    {
      "cell_type": "code",
      "metadata": {
        "id": "7U3NFUCP3Rry"
      },
      "source": [
        "class stock:\n",
        "    def __init__(self, ticker, open, close, volume):\n",
        "        self.ticker = ticker\n",
        "        self.open = open\n",
        "        self.close = close\n",
        "        self.volume = volume\n",
        "        self.rate_return = float(close)/open - 1\n",
        " \n",
        "    def update(self, open, close):\n",
        "        self.open = open\n",
        "        self.close = close\n",
        "        self.rate_return = float(self.close)/self.open - 1\n",
        " \n",
        "    def print_return(self):\n",
        "        print(self.rate_return)"
      ],
      "execution_count": 16,
      "outputs": []
    },
    {
      "cell_type": "code",
      "metadata": {
        "id": "WHruFMRWz285"
      },
      "source": [
        "apple = stock('AAPL', 143.69, 144.09, 20109375)\n",
        "google = stock('GOOG', 898.7, 911.7, 1561616)"
      ],
      "execution_count": null,
      "outputs": []
    },
    {
      "cell_type": "markdown",
      "metadata": {
        "id": "9CBadclr3ZLC"
      },
      "source": [
        "##Mi Ejemplo"
      ]
    },
    {
      "cell_type": "code",
      "metadata": {
        "id": "Jow1EJ-c3aqS"
      },
      "source": [
        "tesla = stock('TSLA', 5582, 57.09, 20109375)\n",
        "chipotle = stock('CMG', 36.322, 788.7, 1561616)"
      ],
      "execution_count": 17,
      "outputs": []
    },
    {
      "cell_type": "code",
      "metadata": {
        "id": "zi7o9AvVz285",
        "outputId": "3d12bf67-ab9c-423c-9d08-f82c8f388db3"
      },
      "source": [
        "apple.ticker\n",
        "google.print_return()\n",
        "google.update(912.8,913.4)\n",
        "google.print_return()"
      ],
      "execution_count": null,
      "outputs": [
        {
          "output_type": "stream",
          "text": [
            "0.014465338822744034\n",
            "0.0006573181419806673\n"
          ],
          "name": "stdout"
        }
      ]
    },
    {
      "cell_type": "markdown",
      "metadata": {
        "id": "Q3HRHm1i32Qc"
      },
      "source": [
        "##Mi Ejemplo"
      ]
    },
    {
      "cell_type": "code",
      "metadata": {
        "colab": {
          "base_uri": "https://localhost:8080/"
        },
        "id": "k8F6c95w3_Ac",
        "outputId": "f0d2a97b-c4af-4d18-c9bf-3ddf38d1eec0"
      },
      "source": [
        "tesla.ticker\n",
        "chipotle.print_return()\n",
        "chipotle.update(912.8,913.4)\n",
        "chipotle.print_return()"
      ],
      "execution_count": 18,
      "outputs": [
        {
          "output_type": "stream",
          "text": [
            "20.714112658994548\n",
            "0.0006573181419806673\n"
          ],
          "name": "stdout"
        }
      ]
    },
    {
      "cell_type": "code",
      "metadata": {
        "id": "i9OhTnQzz286",
        "outputId": "cedcc907-ed82-4803-8b8f-60c3b3cb69cb"
      },
      "source": [
        "apple.ceo = 'Tim Cook'\n",
        "apple.ceo"
      ],
      "execution_count": null,
      "outputs": [
        {
          "output_type": "execute_result",
          "data": {
            "text/plain": [
              "'Tim Cook'"
            ]
          },
          "metadata": {
            "tags": []
          },
          "execution_count": 23
        }
      ]
    },
    {
      "cell_type": "markdown",
      "metadata": {
        "id": "UAMfJgfC4CRR"
      },
      "source": [
        "##Mi Ejemplo"
      ]
    },
    {
      "cell_type": "code",
      "metadata": {
        "colab": {
          "base_uri": "https://localhost:8080/",
          "height": 35
        },
        "id": "0j_l_c8E4FTB",
        "outputId": "8776a752-7dba-4df7-9f58-3aee9cb9f676"
      },
      "source": [
        "tesla.ceo='Elon Musk'\n",
        "tesla.ceo"
      ],
      "execution_count": 19,
      "outputs": [
        {
          "output_type": "execute_result",
          "data": {
            "application/vnd.google.colaboratory.intrinsic+json": {
              "type": "string"
            },
            "text/plain": [
              "'Elon Musk'"
            ]
          },
          "metadata": {
            "tags": []
          },
          "execution_count": 19
        }
      ]
    },
    {
      "cell_type": "code",
      "metadata": {
        "id": "SN9gbc1Tz286",
        "outputId": "775611ae-35a2-46b8-bf57-4418689815cc"
      },
      "source": [
        "dir(apple)"
      ],
      "execution_count": null,
      "outputs": [
        {
          "output_type": "execute_result",
          "data": {
            "text/plain": [
              "['__class__',\n",
              " '__delattr__',\n",
              " '__dict__',\n",
              " '__dir__',\n",
              " '__doc__',\n",
              " '__eq__',\n",
              " '__format__',\n",
              " '__ge__',\n",
              " '__getattribute__',\n",
              " '__gt__',\n",
              " '__hash__',\n",
              " '__init__',\n",
              " '__init_subclass__',\n",
              " '__le__',\n",
              " '__lt__',\n",
              " '__module__',\n",
              " '__ne__',\n",
              " '__new__',\n",
              " '__reduce__',\n",
              " '__reduce_ex__',\n",
              " '__repr__',\n",
              " '__setattr__',\n",
              " '__sizeof__',\n",
              " '__str__',\n",
              " '__subclasshook__',\n",
              " '__weakref__',\n",
              " 'ceo',\n",
              " 'close',\n",
              " 'open',\n",
              " 'print_return',\n",
              " 'rate_return',\n",
              " 'ticker',\n",
              " 'update',\n",
              " 'volume']"
            ]
          },
          "metadata": {
            "tags": []
          },
          "execution_count": 24
        }
      ]
    },
    {
      "cell_type": "markdown",
      "metadata": {
        "id": "5uIzvynR4OGy"
      },
      "source": [
        "##Mi Ejemplo"
      ]
    },
    {
      "cell_type": "code",
      "metadata": {
        "colab": {
          "base_uri": "https://localhost:8080/"
        },
        "id": "PIKOWDOa4QHk",
        "outputId": "7fb247ba-0838-411c-8f18-cb9ba635bc8c"
      },
      "source": [
        "dir(tesla)"
      ],
      "execution_count": 20,
      "outputs": [
        {
          "output_type": "execute_result",
          "data": {
            "text/plain": [
              "['__class__',\n",
              " '__delattr__',\n",
              " '__dict__',\n",
              " '__dir__',\n",
              " '__doc__',\n",
              " '__eq__',\n",
              " '__format__',\n",
              " '__ge__',\n",
              " '__getattribute__',\n",
              " '__gt__',\n",
              " '__hash__',\n",
              " '__init__',\n",
              " '__init_subclass__',\n",
              " '__le__',\n",
              " '__lt__',\n",
              " '__module__',\n",
              " '__ne__',\n",
              " '__new__',\n",
              " '__reduce__',\n",
              " '__reduce_ex__',\n",
              " '__repr__',\n",
              " '__setattr__',\n",
              " '__sizeof__',\n",
              " '__str__',\n",
              " '__subclasshook__',\n",
              " '__weakref__',\n",
              " 'ceo',\n",
              " 'close',\n",
              " 'open',\n",
              " 'print_return',\n",
              " 'rate_return',\n",
              " 'ticker',\n",
              " 'update',\n",
              " 'volume']"
            ]
          },
          "metadata": {
            "tags": []
          },
          "execution_count": 20
        }
      ]
    },
    {
      "cell_type": "code",
      "metadata": {
        "id": "5ge2JW5Yz287"
      },
      "source": [
        "class child(stock):\n",
        "    def __init__(self,name):\n",
        "        self.name = name"
      ],
      "execution_count": 21,
      "outputs": []
    },
    {
      "cell_type": "markdown",
      "metadata": {
        "id": "Po4OveR84Smz"
      },
      "source": [
        "##Mi Ejemplo"
      ]
    },
    {
      "cell_type": "code",
      "metadata": {
        "id": "S82bo4P84WdK"
      },
      "source": [
        "class child(stock):\n",
        "    def __init__(self,name):\n",
        "        self.name = name"
      ],
      "execution_count": 22,
      "outputs": []
    },
    {
      "cell_type": "code",
      "metadata": {
        "id": "kU9U5Mawz287",
        "outputId": "d8909c52-7cd9-43e3-c413-356825c87db3"
      },
      "source": [
        "aa = child('aa')\n",
        "print(aa.name)\n",
        "aa.update(100,102)\n",
        "print(aa.open)\n",
        "print(aa.close)\n",
        "print(aa.print_return())"
      ],
      "execution_count": null,
      "outputs": [
        {
          "output_type": "stream",
          "text": [
            "aa\n",
            "100\n",
            "102\n",
            "0.020000000000000018\n",
            "None\n"
          ],
          "name": "stdout"
        }
      ]
    },
    {
      "cell_type": "markdown",
      "metadata": {
        "id": "Q0FidSQO4ZyC"
      },
      "source": [
        "##Mi Ejemplo"
      ]
    },
    {
      "cell_type": "code",
      "metadata": {
        "colab": {
          "base_uri": "https://localhost:8080/"
        },
        "id": "Y2bgoDdj4bQy",
        "outputId": "c67e186e-cdd3-408f-f392-4d0c2b757191"
      },
      "source": [
        "bb = child('bb')\n",
        "print(bb.name)\n",
        "bb.update(20,102)\n",
        "print(bb.open)\n",
        "print(bb.close)\n",
        "print(bb.print_return())"
      ],
      "execution_count": 23,
      "outputs": [
        {
          "output_type": "stream",
          "text": [
            "bb\n",
            "20\n",
            "102\n",
            "4.1\n",
            "None\n"
          ],
          "name": "stdout"
        }
      ]
    }
  ]
}