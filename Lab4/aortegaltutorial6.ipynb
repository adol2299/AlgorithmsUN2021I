{
  "nbformat": 4,
  "nbformat_minor": 0,
  "metadata": {
    "kernelspec": {
      "display_name": "Python 3",
      "language": "python",
      "name": "python3"
    },
    "language_info": {
      "codemirror_mode": {
        "name": "ipython",
        "version": 3
      },
      "file_extension": ".py",
      "mimetype": "text/x-python",
      "name": "python",
      "nbconvert_exporter": "python",
      "pygments_lexer": "ipython3",
      "version": "3.6.4"
    },
    "colab": {
      "name": "aortegaltutorial6.ipynb",
      "provenance": []
    }
  },
  "cells": [
    {
      "cell_type": "code",
      "metadata": {
        "id": "xDr2lqfEeJgy",
        "outputId": "559995dd-297c-443b-e100-d156f93e77bb"
      },
      "source": [
        "import numpy as np\n",
        "rate_return = 102.0/100 - 1\n",
        "print(rate_return)"
      ],
      "execution_count": null,
      "outputs": [
        {
          "output_type": "stream",
          "text": [
            "0.020000000000000018\n"
          ],
          "name": "stdout"
        }
      ]
    },
    {
      "cell_type": "markdown",
      "metadata": {
        "id": "W5qsWKaPeN7U"
      },
      "source": [
        "##Mi Ejemplo"
      ]
    },
    {
      "cell_type": "code",
      "metadata": {
        "colab": {
          "base_uri": "https://localhost:8080/"
        },
        "id": "WYt22PY9ePYi",
        "outputId": "a568247f-5bb2-463b-f119-7a6425d35ed8"
      },
      "source": [
        "import numpy as np\n",
        "tasa_retorno = 50.0/20 - 1\n",
        "print(tasa_retorno)"
      ],
      "execution_count": 2,
      "outputs": [
        {
          "output_type": "stream",
          "text": [
            "1.5\n"
          ],
          "name": "stdout"
        }
      ]
    },
    {
      "cell_type": "code",
      "metadata": {
        "id": "TwzKC_gleJg8"
      },
      "source": [
        "\n",
        "import numpy as np\n",
        "import quandl\n",
        "quandl.ApiConfig.api_key = 'k4onmtYcq-SNZJhBHFcF'\n",
        "#get quandl data\n",
        "aapl_table = quandl.get('WIKI/AAPL')\n",
        "aapl = aapl_table.loc['2017-3',['Open','Close']]\n",
        "#take log return\n",
        "aapl['log_price'] = np.log(aapl.Close)\n",
        "aapl['log_return'] = aapl.log_price.diff()\n",
        "print(aapl)"
      ],
      "execution_count": null,
      "outputs": []
    },
    {
      "cell_type": "markdown",
      "metadata": {
        "id": "dWLMsbgdfL1X"
      },
      "source": [
        "##Mi Ejemplo"
      ]
    },
    {
      "cell_type": "code",
      "metadata": {
        "colab": {
          "base_uri": "https://localhost:8080/"
        },
        "id": "s-e8F4A5fPZS",
        "outputId": "eb2d10f0-462a-4f3e-f869-42dad01702e8"
      },
      "source": [
        "! pip install quandl\n",
        "import numpy as np\n",
        "import quandl\n",
        "quandl.ApiConfig.api_key = 'k4onmtYcq-SNZJhBHFcF'\n",
        "#get quandl data\n",
        "tsla_table = quandl.get('WIKI/TSLA')\n",
        "tsla = tsla_table.loc['2017-3',['Open','Close']]\n",
        "#take log return\n",
        "tsla['log_price'] = np.log(tsla.Close)\n",
        "tsla['log_return'] = tsla.log_price.diff()\n",
        "print(aapl)"
      ],
      "execution_count": 9,
      "outputs": [
        {
          "output_type": "stream",
          "text": [
            "Requirement already satisfied: quandl in /usr/local/lib/python3.7/dist-packages (3.6.1)\n",
            "Requirement already satisfied: pandas>=0.14 in /usr/local/lib/python3.7/dist-packages (from quandl) (1.1.5)\n",
            "Requirement already satisfied: python-dateutil in /usr/local/lib/python3.7/dist-packages (from quandl) (2.8.1)\n",
            "Requirement already satisfied: inflection>=0.3.1 in /usr/local/lib/python3.7/dist-packages (from quandl) (0.5.1)\n",
            "Requirement already satisfied: numpy>=1.8 in /usr/local/lib/python3.7/dist-packages (from quandl) (1.19.5)\n",
            "Requirement already satisfied: more-itertools in /usr/local/lib/python3.7/dist-packages (from quandl) (8.7.0)\n",
            "Requirement already satisfied: six in /usr/local/lib/python3.7/dist-packages (from quandl) (1.15.0)\n",
            "Requirement already satisfied: requests>=2.7.0 in /usr/local/lib/python3.7/dist-packages (from quandl) (2.23.0)\n",
            "Requirement already satisfied: pytz>=2017.2 in /usr/local/lib/python3.7/dist-packages (from pandas>=0.14->quandl) (2018.9)\n",
            "Requirement already satisfied: urllib3!=1.25.0,!=1.25.1,<1.26,>=1.21.1 in /usr/local/lib/python3.7/dist-packages (from requests>=2.7.0->quandl) (1.24.3)\n",
            "Requirement already satisfied: chardet<4,>=3.0.2 in /usr/local/lib/python3.7/dist-packages (from requests>=2.7.0->quandl) (3.0.4)\n",
            "Requirement already satisfied: idna<3,>=2.5 in /usr/local/lib/python3.7/dist-packages (from requests>=2.7.0->quandl) (2.10)\n",
            "Requirement already satisfied: certifi>=2017.4.17 in /usr/local/lib/python3.7/dist-packages (from requests>=2.7.0->quandl) (2020.12.5)\n",
            "              Open   Close  log_price  log_return\n",
            "Date                                             \n",
            "2017-03-01  254.18  250.02   5.521541         NaN\n",
            "2017-03-02  249.71  250.48   5.523379    0.001838\n",
            "2017-03-03  250.74  251.57   5.527721    0.004342\n",
            "2017-03-06  247.91  251.21   5.526289   -0.001432\n",
            "2017-03-07  251.92  248.59   5.515805   -0.010484\n",
            "2017-03-08  247.00  246.87   5.508862   -0.006943\n",
            "2017-03-09  247.63  244.90   5.500850   -0.008012\n",
            "2017-03-10  246.21  243.69   5.495897   -0.004953\n",
            "2017-03-13  244.82  246.17   5.506022    0.010125\n",
            "2017-03-14  246.11  258.00   5.552960    0.046937\n",
            "2017-03-15  257.00  255.73   5.544122   -0.008837\n",
            "2017-03-16  262.40  262.05   5.568535    0.024413\n",
            "2017-03-17  264.00  261.50   5.566434   -0.002101\n",
            "2017-03-20  260.60  261.92   5.568039    0.001605\n",
            "2017-03-21  262.83  250.68   5.524177   -0.043862\n",
            "2017-03-22  251.56  255.01   5.541303    0.017126\n",
            "2017-03-23  255.39  254.78   5.540400   -0.000902\n",
            "2017-03-24  255.70  263.16   5.572762    0.032362\n",
            "2017-03-27  260.60  270.22   5.599236    0.026474\n",
            "2017-03-28  277.02  277.45   5.625641    0.026404\n",
            "2017-03-29  278.34  277.38   5.625388   -0.000252\n",
            "2017-03-30  278.04  277.92   5.627333    0.001945\n",
            "2017-03-31  278.73  278.30   5.628700    0.001366\n"
          ],
          "name": "stdout"
        }
      ]
    },
    {
      "cell_type": "code",
      "metadata": {
        "id": "0jCQ9VjBeJg-",
        "outputId": "db4f063e-08cc-4ed8-db51-b76250529333"
      },
      "source": [
        "month_return = aapl.log_return.sum()\n",
        "print(month_return)"
      ],
      "execution_count": null,
      "outputs": [
        {
          "output_type": "stream",
          "text": [
            "0.0273081001636184\n"
          ],
          "name": "stdout"
        }
      ]
    },
    {
      "cell_type": "markdown",
      "metadata": {
        "id": "j2srbprrhoiC"
      },
      "source": [
        "##Mi Ejemplo"
      ]
    },
    {
      "cell_type": "code",
      "metadata": {
        "colab": {
          "base_uri": "https://localhost:8080/"
        },
        "id": "cD4kdsHehp2L",
        "outputId": "81937fbf-2d77-4de6-9923-6b2dd8b4e3b8"
      },
      "source": [
        "retorno_mensual = tsla.log_return.sum()\n",
        "print(retorno_mensual)"
      ],
      "execution_count": 11,
      "outputs": [
        {
          "output_type": "stream",
          "text": [
            "0.1071587538694283\n"
          ],
          "name": "stdout"
        }
      ]
    },
    {
      "cell_type": "code",
      "metadata": {
        "id": "c4c5X0eoeJg_",
        "outputId": "41fb6615-19b7-42f2-ebf8-1406cbd5f6f3"
      },
      "source": [
        "print(np.mean(aapl.log_price))"
      ],
      "execution_count": null,
      "outputs": [
        {
          "output_type": "stream",
          "text": [
            "4.94597446550658\n"
          ],
          "name": "stdout"
        }
      ]
    },
    {
      "cell_type": "markdown",
      "metadata": {
        "id": "8cArXGPBh_BT"
      },
      "source": [
        "##Mi Ejemplo"
      ]
    },
    {
      "cell_type": "code",
      "metadata": {
        "colab": {
          "base_uri": "https://localhost:8080/"
        },
        "id": "KfvGrrOOiAWz",
        "outputId": "853246e4-147c-4ff3-c24c-e58a3381eef8"
      },
      "source": [
        "print(np.mean(tsla.log_price))"
      ],
      "execution_count": 12,
      "outputs": [
        {
          "output_type": "stream",
          "text": [
            "5.552669490629464\n"
          ],
          "name": "stdout"
        }
      ]
    },
    {
      "cell_type": "code",
      "metadata": {
        "id": "_qb0ZqYFeJg_",
        "outputId": "ca91480d-7835-4f1d-92d1-50acd9015a2c"
      },
      "source": [
        "print(np.var(aapl.log_price))"
      ],
      "execution_count": null,
      "outputs": [
        {
          "output_type": "stream",
          "text": [
            "0.00014203280448152512\n"
          ],
          "name": "stdout"
        }
      ]
    },
    {
      "cell_type": "markdown",
      "metadata": {
        "id": "mcih2avBiTnT"
      },
      "source": [
        "##Mi Ejemplo"
      ]
    },
    {
      "cell_type": "code",
      "metadata": {
        "colab": {
          "base_uri": "https://localhost:8080/"
        },
        "id": "WXTurf8-iU8a",
        "outputId": "f851a5ea-6586-4a98-d3ba-0cfde076d076"
      },
      "source": [
        "print(np.var(tsla.log_price))"
      ],
      "execution_count": 13,
      "outputs": [
        {
          "output_type": "stream",
          "text": [
            "0.001777830739308596\n"
          ],
          "name": "stdout"
        }
      ]
    }
  ]
}